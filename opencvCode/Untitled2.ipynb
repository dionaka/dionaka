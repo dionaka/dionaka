{
 "cells": [
  {
   "cell_type": "code",
   "execution_count": 2,
   "id": "3aca2837-e8fc-47c7-b2fa-4fdb5358cbd8",
   "metadata": {},
   "outputs": [],
   "source": [
    "import cv2\n",
    "import numpy as np"
   ]
  },
  {
   "cell_type": "markdown",
   "id": "a3a276c6-ab5b-462f-bb7a-564941d233e0",
   "metadata": {},
   "source": [
    "<h4>SIFT</h4>"
   ]
  },
  {
   "cell_type": "code",
   "execution_count": 4,
   "id": "cb114270-0e07-4b89-ac61-9f636438fd14",
   "metadata": {},
   "outputs": [],
   "source": [
    "img=cv2.imread(\"2.jpg\")"
   ]
  },
  {
   "cell_type": "code",
   "execution_count": 5,
   "id": "4b645531-23d1-4f15-89d3-4d22b6195b32",
   "metadata": {},
   "outputs": [],
   "source": [
    "gray=cv2.cvtColor(img,cv2.COLOR_BGR2GRAY)\n",
    "sift=cv2.SIFT_create()\n",
    "kp,descripters=sift.detectAndCompute(gray,None)"
   ]
  },
  {
   "cell_type": "code",
   "execution_count": null,
   "id": "19e2c589-0083-4c9d-8fdf-8a56e8f23063",
   "metadata": {},
   "outputs": [],
   "source": [
    "#在原始图象上绘制关键点\n",
    "img1=cv2.drawKeypoints(img,kp,None,flags=cv2.DRAW_MATCHES_FLAGS_DRAW_RICH_KEYPOINTS)\n",
    "cv2.imshow(\"hua\",img1)\n",
    "cv2.waitKey(0)\n",
    "cv2.destroyAllWindows()"
   ]
  },
  {
   "cell_type": "markdown",
   "id": "4b0cd434-27aa-49a9-8059-89db629ac26c",
   "metadata": {},
   "source": [
    "<h4>SURF</h4>"
   ]
  },
  {
   "cell_type": "code",
   "execution_count": null,
   "id": "5c4d2495-cabe-48f2-a9fd-4575f4571a84",
   "metadata": {},
   "outputs": [],
   "source": [
    "img=cv2.imread(\"2.jpg\")"
   ]
  },
  {
   "cell_type": "code",
   "execution_count": null,
   "id": "9f15dc0e-d20a-4881-afbc-c7fbae20f951",
   "metadata": {},
   "outputs": [],
   "source": [
    "\"\"\"gray=cv2.cvtColor(img,cv2.COLOR_BGR2GRAY)\n",
    "surf=cv2.xfeatures2d.SURF_create(400)\n",
    "kp,dp=surf.detectAndCompute(gray,None)\"\"\""
   ]
  },
  {
   "cell_type": "code",
   "execution_count": null,
   "id": "a05b83aa-588f-4943-aca8-12048e5e1c70",
   "metadata": {},
   "outputs": [],
   "source": [
    "img1=cv2.drawKeypoints(img,kp,None,(255,0,0),4)"
   ]
  },
  {
   "cell_type": "markdown",
   "id": "c755dff2-92af-4ac4-b90b-4173f21614f7",
   "metadata": {},
   "source": [
    "<h4>仿射变换</h4>"
   ]
  },
  {
   "cell_type": "code",
   "execution_count": null,
   "id": "43fe78f6-964a-4c9e-9b4b-4ab787423f4b",
   "metadata": {},
   "outputs": [],
   "source": [
    "img=cv2.imread(\"2.jpg\")"
   ]
  },
  {
   "cell_type": "code",
   "execution_count": null,
   "id": "9aaa3036-599f-4e89-b4b4-8d2a7e22bf49",
   "metadata": {},
   "outputs": [],
   "source": [
    "pts1=np.float32([[50,50],[200,50],[50,200]])\n",
    "pts2=np.float32([[0,100],[200,50],[100,250]])\n",
    "M=cv2.getAffineTransform(pts1,pts2)\n",
    "img1=cv2.warpAffine(img,M,(img.shape[1],img.shape[0]))"
   ]
  },
  {
   "cell_type": "code",
   "execution_count": null,
   "id": "11d64df2-3b40-44c7-96a9-3816ad0546c2",
   "metadata": {},
   "outputs": [],
   "source": [
    "cv2.imshow(\"hua\",img1)\n",
    "cv2.waitKey(0)\n",
    "cv2.destroyAllWindows()"
   ]
  },
  {
   "cell_type": "markdown",
   "id": "9d3241a5-fc38-4025-a4a7-7feffc59fd02",
   "metadata": {},
   "source": [
    "<h4>透视变换</h4>"
   ]
  },
  {
   "cell_type": "code",
   "execution_count": null,
   "id": "86f7fb54-7170-454b-a8c0-51b3507657a9",
   "metadata": {},
   "outputs": [],
   "source": [
    "img=cv2.imread(\"2.jpg\")"
   ]
  },
  {
   "cell_type": "code",
   "execution_count": null,
   "id": "e27f9505-1f33-4caa-b58d-1738ed2d8ff9",
   "metadata": {},
   "outputs": [],
   "source": [
    "pts1=np.float32([[56,65],[368,52],[28,387],[389,390]])\n",
    "pts2=np.float32([[0,0],[300,0],[200,50],[300,300]])\n",
    "M=cv2.getPerspectiveTransform(pts1,pts2)\n",
    "img1=cv2.warpPerspective(img,M,(400,400))"
   ]
  },
  {
   "cell_type": "code",
   "execution_count": 179,
   "id": "516e9ca5-4d30-455a-82d1-f8ea0bf93ded",
   "metadata": {},
   "outputs": [],
   "source": [
    "cv2.imshow(\"hua\",img1)\n",
    "cv2.waitKey(0)\n",
    "cv2.destroyAllWindows()"
   ]
  },
  {
   "cell_type": "code",
   "execution_count": null,
   "id": "d4f7e229-8df0-4e33-ae51-ba0dce723182",
   "metadata": {},
   "outputs": [],
   "source": []
  }
 ],
 "metadata": {
  "kernelspec": {
   "display_name": "Python 3 (ipykernel)",
   "language": "python",
   "name": "python3"
  },
  "language_info": {
   "codemirror_mode": {
    "name": "ipython",
    "version": 3
   },
   "file_extension": ".py",
   "mimetype": "text/x-python",
   "name": "python",
   "nbconvert_exporter": "python",
   "pygments_lexer": "ipython3",
   "version": "3.11.7"
  }
 },
 "nbformat": 4,
 "nbformat_minor": 5
}
