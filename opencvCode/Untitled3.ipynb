{
 "cells": [
  {
   "cell_type": "code",
   "execution_count": 1,
   "id": "3c8afd4b-01f1-4b5a-bf95-ba25413a9255",
   "metadata": {},
   "outputs": [],
   "source": [
    "import cv2\n",
    "import numpy as np\n",
    "import matplotlib.pyplot as plt"
   ]
  },
  {
   "cell_type": "code",
   "execution_count": 2,
   "id": "588b8a8c-c73a-4804-b094-f9a67de88f49",
   "metadata": {},
   "outputs": [
    {
     "name": "stdout",
     "output_type": "stream",
     "text": [
      "C:\\Users\\hp\\anaconda3\\Lib\\site-packages\\cv2\\__init__.py\n"
     ]
    }
   ],
   "source": [
    "print(cv2.__file__)"
   ]
  },
  {
   "cell_type": "code",
   "execution_count": 3,
   "id": "ce489c20-20d5-4a05-b148-88bb950884c9",
   "metadata": {},
   "outputs": [],
   "source": [
    "#加载人脸检测分类器 \n",
    "face_cascade=cv2.CascadeClassifier(\"haarcascade_frontalface_default.xml\")"
   ]
  },
  {
   "cell_type": "code",
   "execution_count": 4,
   "id": "ddebe803-69b7-4873-87f7-9e32392e0af0",
   "metadata": {},
   "outputs": [],
   "source": [
    "#读取图片，转换为灰度值\n",
    "img=cv2.imread(\"77.jpg\")\n",
    "gray=cv2.cvtColor(img,cv2.COLOR_BGR2GRAY)"
   ]
  },
  {
   "cell_type": "code",
   "execution_count": 5,
   "id": "ac56c042-648c-4d5e-9d00-288ad018b2e2",
   "metadata": {},
   "outputs": [],
   "source": [
    "#检测人脸\n",
    "faces=face_cascade.detectMultiScale(gray,1.1,7)"
   ]
  },
  {
   "cell_type": "code",
   "execution_count": 6,
   "id": "fecf28df-5194-41ed-9760-7bdaabf494b8",
   "metadata": {},
   "outputs": [
    {
     "ename": "NameError",
     "evalue": "name 'x' is not defined",
     "output_type": "error",
     "traceback": [
      "\u001b[1;31m---------------------------------------------------------------------------\u001b[0m",
      "\u001b[1;31mNameError\u001b[0m                                 Traceback (most recent call last)",
      "Cell \u001b[1;32mIn[6], line 2\u001b[0m\n\u001b[0;32m      1\u001b[0m \u001b[38;5;66;03m#绘制矩形框\u001b[39;00m\n\u001b[1;32m----> 2\u001b[0m x,y,h,w\n\u001b[0;32m      3\u001b[0m \u001b[38;5;28;01mfor\u001b[39;00m (x,y,w,h) \u001b[38;5;129;01min\u001b[39;00m faces:\n\u001b[0;32m      4\u001b[0m     cv2\u001b[38;5;241m.\u001b[39mrectangle(img,(x,y),(x\u001b[38;5;241m+\u001b[39mw,y\u001b[38;5;241m+\u001b[39mh),(\u001b[38;5;241m0\u001b[39m,\u001b[38;5;241m0\u001b[39m,\u001b[38;5;241m255\u001b[39m),\u001b[38;5;241m2\u001b[39m)\n",
      "\u001b[1;31mNameError\u001b[0m: name 'x' is not defined"
     ]
    }
   ],
   "source": [
    "#绘制矩形框\n",
    "for (x,y,w,h) in faces:\n",
    "    cv2.rectangle(img,(x,y),(x+w,y+h),(0,0,255),2)    "
   ]
  },
  {
   "cell_type": "code",
   "execution_count": null,
   "id": "02d27fe5-3822-4604-8a72-cb3a408c4ba3",
   "metadata": {},
   "outputs": [],
   "source": [
    "img_crop=img[y:y+h,x:x+w]\n",
    "cv2.imwrite(\"76.jpg\",img_crop)"
   ]
  },
  {
   "cell_type": "code",
   "execution_count": null,
   "id": "931721f8-026f-461a-9a49-42de277ae8b9",
   "metadata": {},
   "outputs": [],
   "source": [
    "cv2.imshow(\"img\",img)\n",
    "cv2.imshow(\"imgcrop\",cv2.resize(img_crop,(0,0),fx=1.3,fy=1.3))\n",
    "cv2.waitKey(0)\n",
    "cv2.destroyAllWindows()"
   ]
  },
  {
   "cell_type": "code",
   "execution_count": null,
   "id": "b325af2c-a172-490b-a49d-e50945fb3aef",
   "metadata": {},
   "outputs": [],
   "source": []
  },
  {
   "cell_type": "code",
   "execution_count": null,
   "id": "a06c36fa-adbf-466b-aab7-fc098ae25bdd",
   "metadata": {},
   "outputs": [],
   "source": []
  },
  {
   "cell_type": "code",
   "execution_count": null,
   "id": "ef9afe45-aaaf-4ee6-a134-7813a5a40b1e",
   "metadata": {},
   "outputs": [],
   "source": []
  },
  {
   "cell_type": "code",
   "execution_count": null,
   "id": "d0457cd1-2476-4bba-a87a-8181ee91393d",
   "metadata": {},
   "outputs": [],
   "source": []
  }
 ],
 "metadata": {
  "kernelspec": {
   "display_name": "Python 3 (ipykernel)",
   "language": "python",
   "name": "python3"
  },
  "language_info": {
   "codemirror_mode": {
    "name": "ipython",
    "version": 3
   },
   "file_extension": ".py",
   "mimetype": "text/x-python",
   "name": "python",
   "nbconvert_exporter": "python",
   "pygments_lexer": "ipython3",
   "version": "3.11.7"
  }
 },
 "nbformat": 4,
 "nbformat_minor": 5
}
