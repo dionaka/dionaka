{
 "cells": [
  {
   "cell_type": "code",
   "execution_count": 1,
   "id": "56ed3cf8-cad6-4dac-a3b6-f404266319a3",
   "metadata": {},
   "outputs": [],
   "source": [
    "#"
   ]
  },
  {
   "cell_type": "code",
   "execution_count": 2,
   "id": "53512468-3d99-439a-9daa-4e39330b2494",
   "metadata": {},
   "outputs": [],
   "source": [
    "import cv2\n",
    "import numpy as np\n",
    "from operator import itemgetter\n",
    "from collections import Counter"
   ]
  },
  {
   "cell_type": "code",
   "execution_count": 3,
   "id": "de80d70c-f608-40c1-9d7f-ed3d61e60fd3",
   "metadata": {},
   "outputs": [],
   "source": [
    "def classify(inx,dataSet,labels,k):\n",
    "    dataSetSize=dataSet.shape[0]\n",
    "    diffMat=np.tile(inx,(dataSetSize,1))-dataSet\n",
    "    sqDiffMat=diffMat**2\n",
    "    sqDistance=sqDiffMat.sum(axis=1)\n",
    "    distance=sqDistance**0.5\n",
    "    #对distance元素从小到大排序，并返回索引(第几个)\n",
    "    distance_sort=distance.argsort()\n",
    "    classCount={}\n",
    "    #i为distance\n",
    "    for i in range(k):\n",
    "        x1=labels[distance_sort[i]]\n",
    "        classCount[x1]=classCount.get(x1,0)+1\n",
    "        #sorted()     reverse=True:降序      key=itemgetter(1):get第二个元素，即出现次数   classCount.items():返回字典所有键值对\n",
    "        classCount_sort=sorted(classCount.items(),key=itemgetter(1), reverse=True)\n",
    "        return classCount_sort[0][0]"
   ]
  },
  {
   "cell_type": "code",
   "execution_count": 6,
   "id": "06a65a29-e8e9-4a5b-9a80-7a88c7654cac",
   "metadata": {},
   "outputs": [
    {
     "name": "stdout",
     "output_type": "stream",
     "text": [
      "动作片\n"
     ]
    }
   ],
   "source": [
    "data=np.array([[1,101],[5,89],[108,5],[155,8]])\n",
    "labels=['爱情片','爱情片','动作片','动作片']\n",
    "i_put=[100,50]\n",
    "result=classify(i_put,data,labels,3)\n",
    "print(result)"
   ]
  },
  {
   "cell_type": "code",
   "execution_count": null,
   "id": "5c0f3d87-2d16-4604-8a19-e800087e111d",
   "metadata": {},
   "outputs": [],
   "source": []
  },
  {
   "cell_type": "code",
   "execution_count": null,
   "id": "6efd0046-111d-42de-bbfe-2b6f3df821bc",
   "metadata": {},
   "outputs": [],
   "source": []
  }
 ],
 "metadata": {
  "kernelspec": {
   "display_name": "Python 3 (ipykernel)",
   "language": "python",
   "name": "python3"
  },
  "language_info": {
   "codemirror_mode": {
    "name": "ipython",
    "version": 3
   },
   "file_extension": ".py",
   "mimetype": "text/x-python",
   "name": "python",
   "nbconvert_exporter": "python",
   "pygments_lexer": "ipython3",
   "version": "3.11.7"
  }
 },
 "nbformat": 4,
 "nbformat_minor": 5
}
